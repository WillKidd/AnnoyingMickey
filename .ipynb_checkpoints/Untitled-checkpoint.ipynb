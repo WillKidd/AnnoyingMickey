{
 "cells": [
  {
   "cell_type": "code",
   "execution_count": 2,
   "id": "bb88219f-0531-4856-b643-450718d3e567",
   "metadata": {},
   "outputs": [
    {
     "name": "stdout",
     "output_type": "stream",
     "text": [
      "Requirement already satisfied: instagrapi in c:\\users\\jan\\appdata\\local\\programs\\python\\python311\\lib\\site-packages (2.0.0)\n",
      "Requirement already satisfied: requests<3.0,>=2.25.1 in c:\\users\\jan\\appdata\\local\\programs\\python\\python311\\lib\\site-packages (from instagrapi) (2.31.0)\n",
      "Requirement already satisfied: PySocks==1.7.1 in c:\\users\\jan\\appdata\\local\\programs\\python\\python311\\lib\\site-packages (from instagrapi) (1.7.1)\n",
      "Requirement already satisfied: pydantic==1.10.9 in c:\\users\\jan\\appdata\\local\\programs\\python\\python311\\lib\\site-packages (from instagrapi) (1.10.9)\n",
      "Requirement already satisfied: pycryptodomex==3.18.0 in c:\\users\\jan\\appdata\\local\\programs\\python\\python311\\lib\\site-packages (from instagrapi) (3.18.0)\n",
      "Requirement already satisfied: typing-extensions>=4.2.0 in c:\\users\\jan\\appdata\\local\\programs\\python\\python311\\lib\\site-packages (from pydantic==1.10.9->instagrapi) (4.8.0)\n",
      "Requirement already satisfied: charset-normalizer<4,>=2 in c:\\users\\jan\\appdata\\local\\programs\\python\\python311\\lib\\site-packages (from requests<3.0,>=2.25.1->instagrapi) (3.2.0)\n",
      "Requirement already satisfied: idna<4,>=2.5 in c:\\users\\jan\\appdata\\local\\programs\\python\\python311\\lib\\site-packages (from requests<3.0,>=2.25.1->instagrapi) (3.4)\n",
      "Requirement already satisfied: urllib3<3,>=1.21.1 in c:\\users\\jan\\appdata\\local\\programs\\python\\python311\\lib\\site-packages (from requests<3.0,>=2.25.1->instagrapi) (2.0.5)\n",
      "Requirement already satisfied: certifi>=2017.4.17 in c:\\users\\jan\\appdata\\local\\programs\\python\\python311\\lib\\site-packages (from requests<3.0,>=2.25.1->instagrapi) (2023.7.22)\n"
     ]
    }
   ],
   "source": [
    "import sys\n",
    "!{sys.executable} -m pip install instagrapi"
   ]
  },
  {
   "cell_type": "code",
   "execution_count": 5,
   "id": "25dbe0f2-8697-4d67-b0db-a5e048722568",
   "metadata": {},
   "outputs": [
    {
     "name": "stdout",
     "output_type": "stream",
     "text": [
      "Collecting Pillow\n",
      "  Downloading Pillow-10.1.0-cp311-cp311-win_amd64.whl.metadata (9.6 kB)\n",
      "Downloading Pillow-10.1.0-cp311-cp311-win_amd64.whl (2.6 MB)\n",
      "   ---------------------------------------- 0.0/2.6 MB ? eta -:--:--\n",
      "   ---------------------------------------- 0.0/2.6 MB ? eta -:--:--\n",
      "   -- ------------------------------------- 0.1/2.6 MB 2.1 MB/s eta 0:00:02\n",
      "   -------- ------------------------------- 0.6/2.6 MB 5.2 MB/s eta 0:00:01\n",
      "   --------------- ------------------------ 1.0/2.6 MB 6.4 MB/s eta 0:00:01\n",
      "   ---------------------- ----------------- 1.5/2.6 MB 7.3 MB/s eta 0:00:01\n",
      "   ------------------------------ --------- 2.0/2.6 MB 7.9 MB/s eta 0:00:01\n",
      "   -------------------------------------- - 2.5/2.6 MB 8.4 MB/s eta 0:00:01\n",
      "   ---------------------------------------- 2.6/2.6 MB 7.9 MB/s eta 0:00:00\n",
      "Installing collected packages: Pillow\n",
      "Successfully installed Pillow-10.1.0\n"
     ]
    }
   ],
   "source": [
    "!{sys.executable} -m pip install Pillow"
   ]
  },
  {
   "cell_type": "code",
   "execution_count": 12,
   "id": "1c43da49-e880-48b4-9ffb-2c9f0c8382f8",
   "metadata": {},
   "outputs": [],
   "source": [
    "from instagrapi import Client"
   ]
  },
  {
   "cell_type": "code",
   "execution_count": 7,
   "id": "11d6b8bb-030e-421b-a6ce-5b9601d8e01f",
   "metadata": {},
   "outputs": [],
   "source": [
    "ACCOUNT_USERNAME, ACCOUNT_PASSWORD = \"\", \"\""
   ]
  },
  {
   "cell_type": "code",
   "execution_count": 9,
   "id": "7b361ea0-5ce9-4a47-aeab-f0325d9f95d2",
   "metadata": {},
   "outputs": [
    {
     "data": {
      "text/plain": [
       "True"
      ]
     },
     "execution_count": 9,
     "metadata": {},
     "output_type": "execute_result"
    }
   ],
   "source": [
    "cl = Client()\n",
    "cl.login(ACCOUNT_USERNAME, ACCOUNT_PASSWORD) "
   ]
  },
  {
   "cell_type": "code",
   "execution_count": 13,
   "id": "b26abb75-fdae-4459-8eec-e96ff750649b",
   "metadata": {},
   "outputs": [],
   "source": [
    "user_id = cl.user_id_from_username(\"mcdonalds_region_mannheim\")"
   ]
  },
  {
   "cell_type": "code",
   "execution_count": 16,
   "id": "9b037c85-ad1d-487e-bbc9-8680040d11d6",
   "metadata": {},
   "outputs": [
    {
     "data": {
      "text/plain": [
       "True"
      ]
     },
     "execution_count": 16,
     "metadata": {},
     "output_type": "execute_result"
    }
   ],
   "source": [
    "cl.user_follow(user_id)"
   ]
  },
  {
   "cell_type": "code",
   "execution_count": 17,
   "id": "6397edb8-e696-452d-8235-30127355c89e",
   "metadata": {},
   "outputs": [
    {
     "data": {
      "text/plain": [
       "True"
      ]
     },
     "execution_count": 17,
     "metadata": {},
     "output_type": "execute_result"
    }
   ],
   "source": [
    "cl.user_unfollow(user_id)"
   ]
  },
  {
   "cell_type": "code",
   "execution_count": 18,
   "id": "ddaed719-b218-4210-b8cf-7e5ca991bcaf",
   "metadata": {},
   "outputs": [
    {
     "data": {
      "text/plain": [
       "True"
      ]
     },
     "execution_count": 18,
     "metadata": {},
     "output_type": "execute_result"
    }
   ],
   "source": [
    "cl.dump_settings(\"session.json\")"
   ]
  },
  {
   "cell_type": "code",
   "execution_count": null,
   "id": "1d8a82b4-2066-436b-8673-2ceebfa21580",
   "metadata": {},
   "outputs": [],
   "source": []
  }
 ],
 "metadata": {
  "kernelspec": {
   "display_name": "Python 3 (ipykernel)",
   "language": "python",
   "name": "python3"
  },
  "language_info": {
   "codemirror_mode": {
    "name": "ipython",
    "version": 3
   },
   "file_extension": ".py",
   "mimetype": "text/x-python",
   "name": "python",
   "nbconvert_exporter": "python",
   "pygments_lexer": "ipython3",
   "version": "3.11.5"
  }
 },
 "nbformat": 4,
 "nbformat_minor": 5
}
